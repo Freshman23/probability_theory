{
 "cells": [
  {
   "cell_type": "markdown",
   "id": "67b5be42",
   "metadata": {},
   "source": [
    "### Задание №1.\n",
    "Известно, что генеральная совокупность распределена нормально с известным средним квадратическим отклонением 16. Найти ширину доверительного интервала для оценки математического ожидания $\\mu$ с надёжностью 0.95, если выборочное среднее равно 80, а объём выборки равен 256."
   ]
  },
  {
   "cell_type": "markdown",
   "id": "642de038",
   "metadata": {},
   "source": [
    "__Решение:__\n",
    "\n",
    "Из условий задачи дано: $\\sigma = 16$, $p = 0.95$, $\\overline{X}=80$, $n=256$. Тогда $\\alpha=1-p=0.05$.\n",
    "\n",
    "Так как по условию нам известно, что генеральная совокупность имеет нормальное распределение, и дано среди прочего среднее квадратическое отклонение, то для вычисления ширины доверительного интервала будем использовать Z-статистику и её стандарное нормальное распределение.\n",
    "\n",
    "$$\\normalsize Z = \\frac{\\overline{X}-\\mu}{\\sigma/\\sqrt{n}}$$\n",
    "\n",
    "Границы доверительного интервала математического ожидания найдем из двойного неравенства:\n",
    "\n",
    "$$\\normalsize t_{\\alpha/2} \\le Z \\le t_{1-\\alpha/2}$$\n",
    "\n",
    "$$\\normalsize t_{\\alpha/2} \\le \\frac{\\overline{X}-\\mu}{\\sigma/\\sqrt{n}} \\le t_{1-\\alpha/2}$$\n",
    "\n",
    "$$\\normalsize \\frac{t_{\\alpha/2}\\cdot\\sigma}{\\sqrt{n}} \\le \\overline{X}-\\mu \\le \\frac{t_{1-\\alpha/2}\\cdot\\sigma}{\\sqrt{n}}$$\n",
    "\n",
    "$$\\normalsize \\overline{X}-\\frac{t_{1-\\alpha/2}\\cdot\\sigma}{\\sqrt{n}} \\le \\mu \\le \\overline{X}-\\frac{t_{\\alpha/2}\\cdot\\sigma}{\\sqrt{n}}$$\n",
    "\n",
    "Тогда ширина доверительного интервала будет равна разности правой и левой границ:\n",
    "\n",
    "$$\\normalsize \\Delta = \\overline{X}-\\frac{t_{\\alpha/2}\\cdot\\sigma}{\\sqrt{n}} - \\overline{X}+\\frac{t_{1-\\alpha/2}\\cdot\\sigma}{\\sqrt{n}} = \n",
    "\\frac{\\sigma}{\\sqrt{n}}\\big(t_{1-\\alpha/2}-t_{\\alpha/2}\\big)$$\n",
    "\n",
    "Найдем недостающие квантили порядка $\\alpha/2$ и $1-\\alpha/2$ через библиотеку Scipy и сразу посчитаем $\\Delta$:"
   ]
  },
  {
   "cell_type": "code",
   "execution_count": 1,
   "id": "f7c24d8b",
   "metadata": {},
   "outputs": [
    {
     "data": {
      "text/plain": [
       "3.9199279690801085"
      ]
     },
     "execution_count": 1,
     "metadata": {},
     "output_type": "execute_result"
    }
   ],
   "source": [
    "from scipy import stats\n",
    "\n",
    "alpha = 0.05\n",
    "sigma = 16\n",
    "n = 256\n",
    "\n",
    "t1 = stats.norm.ppf(alpha/2)\n",
    "t2 = stats.norm.ppf(1 - alpha/2)\n",
    "\n",
    "delta = (t2 - t1) * sigma / n ** 0.5\n",
    "delta"
   ]
  },
  {
   "cell_type": "markdown",
   "id": "a28c0989",
   "metadata": {},
   "source": [
    "__Ответ:__ $\\Delta\\approx3.92$\n",
    "___"
   ]
  },
  {
   "cell_type": "markdown",
   "id": "d07a3459",
   "metadata": {},
   "source": [
    "### Задание №2.\n",
    "Продавец утверждает, что средний вес пачки печенья составляет 200 г. Из партии извлечена выборка из 10 пачек. Вес каждой пачки составляет:"
   ]
  },
  {
   "cell_type": "code",
   "execution_count": 2,
   "id": "f0ea4b96",
   "metadata": {},
   "outputs": [],
   "source": [
    "import numpy as np\n",
    "\n",
    "sample = np.array([202, 203, 199, 197, 195, 201, 200, 204, 194, 190])"
   ]
  },
  {
   "cell_type": "markdown",
   "id": "ff61f2cd",
   "metadata": {},
   "source": [
    "Известно, что их веса распределены нормально. Верно ли утверждение продавца, если учитывать, что уровень значимости равен 1%? Найдите P-значение для данного теста и укажите его в качестве ответа."
   ]
  },
  {
   "cell_type": "markdown",
   "id": "02b80e38",
   "metadata": {},
   "source": [
    "__Решение:__\n",
    "\n",
    "Для решения этой задачи будем использовать t-статистику и распределение Стьюдента:\n",
    "$$\\normalsize t=\\frac{\\overline{X}-\\mu}{\\sigma_X/\\sqrt{n}},$$\n",
    "где $\\overline{X}$ - выборочное среднее, $\\sigma_X$ - несмещенное выборочное среднее квадратичное отклоенение, $\\mu = 200$ согласно нулевой гипотезе (утверждению продавца), $n$ - величина выборки.\n",
    "\n",
    "Найдем значение t-статистики для нашей выборки:"
   ]
  },
  {
   "cell_type": "code",
   "execution_count": 3,
   "id": "0164ba5c",
   "metadata": {},
   "outputs": [
    {
     "data": {
      "text/plain": [
       "-1.0651074037450896"
      ]
     },
     "execution_count": 3,
     "metadata": {},
     "output_type": "execute_result"
    }
   ],
   "source": [
    "t_stat = (sample.mean() - 200) / (sample.std(ddof=1) / np.sqrt(sample.shape[0]))\n",
    "t_stat"
   ]
  },
  {
   "cell_type": "markdown",
   "id": "2f4f8022",
   "metadata": {},
   "source": [
    "Для двухсторонней критической области $\\Omega_{\\alpha}=(-\\infty,t_{\\alpha/2})\\cup(t_{1-\\alpha/2},+\\infty)$:\n",
    "$$\\normalsize P = 2\\cdot min\\Big(F_S(S), 1-F_S(S)\\Big),$$\n",
    "где $F_S(S)$ - значение функции распределения при известной статистике S.\n",
    "\n",
    "Для нашего случая значение $P$ будет равно:"
   ]
  },
  {
   "cell_type": "code",
   "execution_count": 4,
   "id": "d85c1ee4",
   "metadata": {},
   "outputs": [
    {
     "data": {
      "text/plain": [
       "0.31456660352472854"
      ]
     },
     "execution_count": 4,
     "metadata": {},
     "output_type": "execute_result"
    }
   ],
   "source": [
    "p_value = 2 * min(stats.t.cdf(t_stat, df=sample.shape[0] - 1), 1 - stats.t.cdf(t_stat, df=sample.shape[0] - 1))\n",
    "p_value"
   ]
  },
  {
   "cell_type": "markdown",
   "id": "d8604ae4",
   "metadata": {},
   "source": [
    "Для проверки воспользуемся готовым t-тестом библиотеки Scipy:"
   ]
  },
  {
   "cell_type": "code",
   "execution_count": 5,
   "id": "6ccae210",
   "metadata": {},
   "outputs": [
    {
     "data": {
      "text/plain": [
       "Ttest_1sampResult(statistic=-1.0651074037450896, pvalue=0.31456660352472854)"
      ]
     },
     "execution_count": 5,
     "metadata": {},
     "output_type": "execute_result"
    }
   ],
   "source": [
    "stats.ttest_1samp(sample, popmean=200)"
   ]
  },
  {
   "cell_type": "markdown",
   "id": "8036ee78",
   "metadata": {},
   "source": [
    "__Ответ:__ $P\\approx 0.315$, и, сравнивая его с заданным уровнем значимости $\\alpha=0.01$, можем смело принять нулевую гипотезу, то есть считать утверждение продавца о среднем весе пачки печенья в 200г верным.\n",
    "___"
   ]
  },
  {
   "cell_type": "markdown",
   "id": "9c081d2f",
   "metadata": {},
   "source": [
    "### Задание №3.\n",
    "Дана выборка диаметров подшипников:"
   ]
  },
  {
   "cell_type": "code",
   "execution_count": 6,
   "id": "78a50ceb",
   "metadata": {},
   "outputs": [],
   "source": [
    "samples = np.array([0.6603, 0.9466, 0.5968, 1.3792, 1.5481, 0.7515, 1.0681, 1.1134,\n",
    "                    1.2088, 1.701 , 1.0282, 1.3579, 1.0191, 1.1784, 1.1168, 1.1372,\n",
    "                    0.7273, 1.3958, 0.8665, 1.5112, 1.161 , 1.0232, 1.0865, 1.02  ])"
   ]
  },
  {
   "cell_type": "markdown",
   "id": "217b6103",
   "metadata": {},
   "source": [
    "Предполагая, что диаметры подшипников распределены нормально, проверьте гипотезу о том, что дисперсия случайной величины равна 0.0625 при уровне значимости $\\alpha = 0.05$. Что для этого нужно знать:\n",
    "1. Альтернативная гипотеза двухсторонняя.\n",
    "2. Статистика для теста: $\\displaystyle H = (n - 1)\\frac{\\sigma_X^2}{\\sigma^2}$, где $n$ - число элементов в выборке, $\\sigma_X^2$ - несмещённая оценка дисперсии, $\\sigma^2$ - утверждаемая нулевой гипотезой дисперсия.\n",
    "3. Эта статистика в предположении верности нулевой гипотезы имеет распределение хи-квадрат с параметром `df = n - 1`. Её квантили можно найти с помощью функции `scipy.stats.chi2.ppf`."
   ]
  },
  {
   "cell_type": "markdown",
   "id": "935494f7",
   "metadata": {},
   "source": [
    "__Решение:__\n",
    "\n",
    "Посчитаем статистику $H$ для нашей выборки: "
   ]
  },
  {
   "cell_type": "code",
   "execution_count": 7,
   "id": "34fb698c",
   "metadata": {},
   "outputs": [
    {
     "data": {
      "text/plain": [
       "28.720541753333343"
      ]
     },
     "execution_count": 7,
     "metadata": {},
     "output_type": "execute_result"
    }
   ],
   "source": [
    "h_stat = (samples.shape[0] - 1) * samples.var(ddof=1) / 0.0625\n",
    "h_stat"
   ]
  },
  {
   "cell_type": "markdown",
   "id": "101a4491",
   "metadata": {},
   "source": [
    "Посчитаем границы критической области $\\Omega_\\alpha$ согласно уровню значимости $\\alpha = 0.05$:"
   ]
  },
  {
   "cell_type": "code",
   "execution_count": 8,
   "id": "bc8922b4",
   "metadata": {},
   "outputs": [
    {
     "data": {
      "text/plain": [
       "(11.688551922452438, 38.0756272503558)"
      ]
     },
     "execution_count": 8,
     "metadata": {},
     "output_type": "execute_result"
    }
   ],
   "source": [
    "alpha = 0.05\n",
    "\n",
    "t1 = stats.chi2.ppf(alpha/2, df=samples.shape[0] - 1)\n",
    "t2 = stats.chi2.ppf(1 - alpha/2, df=samples.shape[0] - 1)\n",
    "\n",
    "t1, t2"
   ]
  },
  {
   "cell_type": "markdown",
   "id": "7bc76404",
   "metadata": {},
   "source": [
    "Критическая область $\\Omega_\\alpha \\approx (0, 11.7)\\cup(38.1, \\infty)$ и посчитанная статистика $H$ для нашей выборки в эту область не попадает, следовательно нулевая гипотеза верна."
   ]
  },
  {
   "cell_type": "markdown",
   "id": "1c8a41e0",
   "metadata": {},
   "source": [
    "__Ответ:__ 1. Гипотеза о том, что дисперсия данной случайной величины равна 0.0625 при уровне значимости $\\alpha = 0.05$, верна."
   ]
  }
 ],
 "metadata": {
  "kernelspec": {
   "display_name": "Python 3",
   "language": "python",
   "name": "python3"
  },
  "language_info": {
   "codemirror_mode": {
    "name": "ipython",
    "version": 3
   },
   "file_extension": ".py",
   "mimetype": "text/x-python",
   "name": "python",
   "nbconvert_exporter": "python",
   "pygments_lexer": "ipython3",
   "version": "3.8.8"
  }
 },
 "nbformat": 4,
 "nbformat_minor": 5
}
