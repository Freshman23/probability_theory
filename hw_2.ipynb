{
 "cells": [
  {
   "cell_type": "markdown",
   "id": "bd592bfa",
   "metadata": {},
   "source": [
    "### Задачи №1, 2.\n",
    "Контрольная работа состоит из пяти вопросов. На каждый вопрос приведено четыре варианта ответа, один из которых правильный. Случайная величина X задаёт число правильных ответов при простом угадывании. Найдите математическое ожидание данной случайной величины. Найдите дисперсию случайной величины X.\n",
    "\n",
    "Вероятность угадывания одного отдельно взятого вопроса найдем как отношение количества правильных ответов (1) к общему количеству ответов (4):   \n",
    "$$\\normalsize\\displaystyle p_i = \\frac{1}{4}= 0.25$$.\n",
    "\n",
    "Тогда общая формула нахождения вероятностей угадывания разного количества (k) вопросов из 5 примет вид:\n",
    "\n",
    "$$\\normalsize\\displaystyle P(X=x_i) = C_5^k\\cdot 0.25^k\\cdot0.75^{5-k}$$\n",
    "\n",
    "Найдем вероятности для каждого значения угаданных вопросов:\n",
    "\n",
    "$\\normalsize\\displaystyle P(X=0) = \\frac{5!}{0!\\cdot5!}\\cdot 0.25^0\\cdot0.75^5 = \\frac{243}{1024} \\approx 0.2373$\n",
    "\n",
    "$\\normalsize\\displaystyle P(X=1) = \\frac{5!}{1!\\cdot4!}\\cdot 0.25^1\\cdot0.75^4 = \\frac{405}{1024} \\approx 0.3955$\n",
    "\n",
    "$\\normalsize\\displaystyle P(X=2) = \\frac{5!}{2!\\cdot3!}\\cdot 0.25^2\\cdot0.75^3 = \\frac{270}{1024} \\approx 0.2637$\n",
    "\n",
    "$\\normalsize\\displaystyle P(X=3) = \\frac{5!}{3!\\cdot2!}\\cdot 0.25^3\\cdot0.75^2 = \\frac{90}{1024} \\approx 0.0879$\n",
    "\n",
    "$\\normalsize\\displaystyle P(X=4) = \\frac{5!}{4!\\cdot1!}\\cdot 0.25^4\\cdot0.75^1 = \\frac{15}{1024} \\approx 0.0146$\n",
    "\n",
    "$\\normalsize\\displaystyle P(X=5) = \\frac{5!}{5!\\cdot0!}\\cdot 0.25^5\\cdot0.75^0 = \\frac{1}{1024} \\approx 0.001$\n",
    "\n",
    "Тогда математическое ожидание и дисперсию найдем по формулам:\n",
    "\n",
    "1. $\\normalsize\\displaystyle M(X) = \\sum_{i=0}^5P_i\\cdot x_i = \\frac{243}{1024}\\cdot0 + \\frac{405}{1024}\\cdot1 + \\frac{270}{1024}\\cdot2 + \\frac{90}{1024}\\cdot3 + \\frac{15}{1024}\\cdot4 + \\frac{1}{1024}\\cdot5 = \\frac{1280}{1024} = 1.25$\n",
    "\n",
    "2. $\\normalsize\\displaystyle D(X) = \\sum_{i=0}^5P_i\\cdot (x_i-M(X))^2 = \\frac{243}{1024}\\cdot(0-1.25)^2 + \\frac{405}{1024}\\cdot(1-1.25)^2 + \\frac{270}{1024}\\cdot(2-1.25)^2 + \\frac{90}{1024}\\cdot(3-1.25)^2 + \\frac{15}{1024}\\cdot(4-1.25)^2 + \\frac{1}{1024}\\cdot(5-1.25)^2 = \\frac{15360}{16384} = 0.9375$"
   ]
  },
  {
   "cell_type": "markdown",
   "id": "9a402925",
   "metadata": {},
   "source": [
    "### Задача №3.\n",
    "Пользователь получает в среднем 10 писем со спамом на свой почтовый ящик за сутки. Найти число N, такое, что с вероятностью 0.95 пользователь получит не более N писем со спамом за текущий день.\n",
    "\n",
    "Решим эту задачу через закон распределения Пуассона:\n",
    "$$P(X = k) = \\dfrac{\\lambda^k e^{-\\lambda}}{k!}$$,\n",
    "где $\\lambda = 10$ по условию задачи.\n",
    "\n",
    "Тогда:\n",
    "$$P(X = k) = \\dfrac{10^k e^{-10}}{k!}$$\n",
    "\n",
    "А для интервала $X$, в данном случае $X\\le N$, формула примет вид:\n",
    "$$P(X\\le N) = \\sum_{i=0}^{N}\\dfrac{10^i e^{-10}}{i!}$$\n",
    "\n",
    "И искомое количество писем N получим из равенства:\n",
    "$$\\sum_{i=0}^{N}\\dfrac{10^i e^{-10}}{i!} = 0.95$$\n"
   ]
  },
  {
   "cell_type": "code",
   "execution_count": 1,
   "id": "977601b7",
   "metadata": {},
   "outputs": [],
   "source": [
    "import numpy as np"
   ]
  },
  {
   "cell_type": "code",
   "execution_count": 2,
   "id": "ac795299",
   "metadata": {},
   "outputs": [],
   "source": [
    "def poisson_proba(k: int, lambda_: float) -> float:\n",
    "    \"\"\"Формула Пуассона.\n",
    "    \"\"\"\n",
    "    \n",
    "    return (lambda_ ** k) * (np.exp(-lambda_)) / np.math.factorial(k)"
   ]
  },
  {
   "cell_type": "code",
   "execution_count": 3,
   "id": "19638a2e",
   "metadata": {},
   "outputs": [],
   "source": [
    "lambda_ = 10\n",
    "given_proba = 0.95"
   ]
  },
  {
   "cell_type": "code",
   "execution_count": 4,
   "id": "0e8760f3",
   "metadata": {},
   "outputs": [
    {
     "data": {
      "text/plain": [
       "(15, 0.9512595966960214)"
      ]
     },
     "execution_count": 4,
     "metadata": {},
     "output_type": "execute_result"
    }
   ],
   "source": [
    "i = -1\n",
    "sum_proba = 0\n",
    "\n",
    "while sum_proba < given_proba:\n",
    "    i += 1\n",
    "    sum_proba += poisson_proba(i, lambda_)\n",
    "\n",
    "i, sum_proba"
   ]
  },
  {
   "cell_type": "markdown",
   "id": "f6a5f804",
   "metadata": {},
   "source": [
    "Суммировав в цикле вероятности и выйдя из него по условию превышения заданной вероятности, получим искомое число N, равное значению счетчика на последней итерации: $N = 15, P \\approx 0.95$."
   ]
  },
  {
   "cell_type": "markdown",
   "id": "6bb6da3d",
   "metadata": {},
   "source": [
    "### Задача №4.\n",
    "Производятся выстрелы по мишени. Вероятность попадания в мишень при одном выстреле равна 0.01. Сколько выстрелов нужно сделать чтобы быть уверенным с вероятностью 0.9, что хотя бы 6 раз будет совершено попадание?\n",
    "\n",
    "Используем биномиальный закон распределения и формулу Бернулли:\n",
    "$$P(X = k) = C_n^k p^k (1 - p)^{n - k}$$\n",
    "\n",
    "Для диапазона значений случайной величины формула примет вид:\n",
    "$$P(k\\le X\\le n) = \\sum_{i=k}^nC_n^i p^i (1 - p)^{n - i}$$\n",
    "или\n",
    "$$P(k\\le X\\le n) = 1 - P(0\\le X < k)= 1 - \\sum_{i=0}^{k-1}C_n^i p^i (1 - p)^{n - i}$$\n",
    "\n",
    "Исходя из условия задачи: $p=0.01,\\,\\,\\,P=0.9,\\,\\,\\,k=6$\n",
    "\n",
    "Подставив, получим уравнение:\n",
    "$$0.9 = 1 - \\sum_{i=0}^5C_n^i\\cdot0.01^i\\cdot0.99^{n - i}$$\n",
    "\n",
    "Решим его, подбирая значения в цикле."
   ]
  },
  {
   "cell_type": "code",
   "execution_count": 5,
   "id": "93d6090c",
   "metadata": {},
   "outputs": [],
   "source": [
    "def combinations(k: int, n: int) -> int:\n",
    "    return np.math.factorial(n) // (np.math.factorial(k) * np.math.factorial(n - k))\n",
    "\n",
    "def binomial_sum_proba(n: int, start: int, end: int, i_proba: float) -> float:\n",
    "    sum_proba = 0\n",
    "    \n",
    "    for i in range(start, end+1):\n",
    "        sum_proba += combinations(i, n) * (i_proba ** i) * ((1 - i_proba) ** (n - i))\n",
    "    \n",
    "    return sum_proba"
   ]
  },
  {
   "cell_type": "code",
   "execution_count": 6,
   "id": "87ec3a51",
   "metadata": {},
   "outputs": [
    {
     "name": "stdout",
     "output_type": "stream",
     "text": [
      "Значение вероятности: 0.9003627121531355\n",
      "Количество экспериментов: 926\n",
      "Количество итераций: 19\n"
     ]
    }
   ],
   "source": [
    "given_proba = 0.9   # Значение вероятности заданного сочетания событий,\n",
    "i_proba = 0.01      # Вероятность одного элементарного события,\n",
    "n = 5               # Общее количество экспериментов (начальное значение),\n",
    "start = 0           # Рассматриваемые начальное и\n",
    "end = 5             # конечное значение сочетаний событий,\n",
    "i = 0               # Счетчик итераций,\n",
    "incr = 1            # Приращение количества экспериментов,\n",
    "drop_mark = False   # Метка снижения приращения.\n",
    "\n",
    "while True:\n",
    "    i += 1\n",
    "    sum_proba = 1 - binomial_sum_proba(n, start, end, i_proba)\n",
    "    \n",
    "    if sum_proba < given_proba:\n",
    "        incr = incr * 10 if not drop_mark else incr\n",
    "        n += incr\n",
    "    elif incr != 1:\n",
    "        n -= incr\n",
    "        incr /= 10\n",
    "        drop_mark = True\n",
    "    else:\n",
    "        break\n",
    "\n",
    "print(f'Значение вероятности: {sum_proba}',\n",
    "      f'Количество экспериментов: {int(n)}',\n",
    "      f'Количество итераций: {i}',\n",
    "      sep='\\n')"
   ]
  },
  {
   "cell_type": "markdown",
   "id": "5fd14656",
   "metadata": {},
   "source": [
    "Получаем, чтобы быть уверенным с вероятностью 0.9, что хотя бы 6 раз будет совершено попадание в мишень (при вероятности попадания в мишень 0.01) необходимо выполнить __926__ выстрелов."
   ]
  }
 ],
 "metadata": {
  "kernelspec": {
   "display_name": "Python 3",
   "language": "python",
   "name": "python3"
  },
  "language_info": {
   "codemirror_mode": {
    "name": "ipython",
    "version": 3
   },
   "file_extension": ".py",
   "mimetype": "text/x-python",
   "name": "python",
   "nbconvert_exporter": "python",
   "pygments_lexer": "ipython3",
   "version": "3.8.8"
  }
 },
 "nbformat": 4,
 "nbformat_minor": 5
}
