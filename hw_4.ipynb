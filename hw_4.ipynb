{
 "cells": [
  {
   "cell_type": "markdown",
   "id": "dc89553c",
   "metadata": {},
   "source": [
    "### Задание №1.\n",
    "Случайная непрерывная величина A имеет равномерное распределение на промежутке (200, 800].\n",
    "Найдите ее среднее значение и дисперсию.\n",
    "\n",
    "Функция плотности равномерного распределения имеет вид:\n",
    "\n",
    "$\\normalsize\\displaystyle f(x) = \\begin{cases}\n",
    "    \\displaystyle\\frac{1}{b-a}, & x\\in[a,b], \\\\\n",
    "    0, & x\\notin[a,b].\n",
    " \\end{cases}$\n",
    "\n",
    "Формула математического ожидания для равномерного распределения:\n",
    "\n",
    "$\\normalsize\\displaystyle M(X) = \\int_{-\\infty}^{+\\infty}x\\cdot f(x)dx = \\int_{a}^{b}x\\cdot\\frac{1}{b-a}dx = \\frac{1}{b-a}\\int_{a}^{b}xdx = \\frac{1}{b-a}\\cdot\\frac{x^2}{2}\\Bigg|_a^b = \\frac{1}{2}\\cdot\\frac{b^2-a^2}{b-a} = \\frac{1}{2}\\cdot\\frac{(b-a)(b+a)}{b-a} = \\frac{a+b}{2}$\n",
    "\n",
    "Формула дисперсии для равномерного распределения:\n",
    "\n",
    "$\\normalsize\\displaystyle D(X) = \\int_{-\\infty}^{+\\infty}(x-M(X))^2\\cdot f(x)dx = \\int_a^b \\bigg(x-\\frac{a+b}{2}\\bigg)^2\\cdot\\frac{1}{b-a}dx = \\frac{1}{b-a}\\cdot\\int_a^b \\bigg(x-\\frac{a+b}{2}\\bigg)^2dx = \\frac{1}{b-a}\\cdot\\int_a^b \\bigg(x-\\frac{a+b}{2}\\bigg)^2d\\bigg(x-\\frac{a+b}{2}\\bigg) = \\frac{1}{b-a}\\cdot\\frac{\\bigg(x-\\displaystyle\\frac{a+b}{2}\\bigg)^3}{3}\\Bigg|_a^b = \\frac{1}{3(b-a)}\\cdot\\Bigg(\\bigg(b-\\frac{a+b}{2}\\bigg)^3-\\bigg(a-\\frac{a+b}{2}\\bigg)^3\\Bigg) = \\frac{1}{3(b-a)}\\cdot\\Bigg(\\bigg(\\frac{b-a}{2}\\bigg)^3-\\bigg(\\frac{a-b}{2}\\bigg)^3\\Bigg) = \\frac{(b-a)^3-(a-b)^3}{24(b-a)} = \\frac{(b-a)^3+(b-a)(a-b)^2}{24(b-a)} = \\frac{(b-a)^2+(a-b)^2}{24} = \\frac{(b-a)^2+(b-a)^2}{24} = \\frac{2(b-a)^2}{24} = \\frac{(b-a)^2}{12}$\n",
    "\n",
    "И тогда для нашей величины А мат.ожидание и дисперсия будут равны:\n",
    "\n",
    "$\\normalsize\\displaystyle M(A) = \\frac{200+800}{2} = 500$\n",
    "\n",
    "$\\normalsize\\displaystyle D(A) = \\frac{(800-200)^2}{12} = 30000$\n",
    "___"
   ]
  },
  {
   "cell_type": "markdown",
   "id": "beeb8fd5",
   "metadata": {},
   "source": [
    "### Задание №2.\n",
    "О случайной непрерывной равномерно распределенной величине B известно, что ее дисперсия равна 0.2.\n",
    "Можно ли найти правую границу величины B и ее среднее значение зная, что левая граница равна 0.5?\n",
    "Если да, найдите ее.\n",
    "\n",
    "Известно, что дисперсия $D(B)=0.2$ и левая граница $a=0.5$ \n",
    "\n",
    "Из формулы дисперсии найдем правую границу $b$:\n",
    "\n",
    "$\\normalsize\\displaystyle D(X) = \\frac{(b-a)^2}{12}\\,\\,\\,\\Rightarrow\\,\\,\\,b = a+\\sqrt{12D(X)}$\n",
    "\n",
    "Подставив данные значения, найдем правую границу $b$ величины B:\n",
    "\n",
    "$\\normalsize\\displaystyle b = 0.5+\\sqrt{12\\cdot0.2} \\approx 2.049$\n",
    "\n",
    "Тогда среднее значение $M(B)$ будет равно:\n",
    "\n",
    "$\\normalsize\\displaystyle M(B) = \\frac{a+b}{2} = \\frac{0.5+0.5+\\sqrt{12\\cdot0.2}}{2} \\approx 1.275$\n",
    "___"
   ]
  },
  {
   "cell_type": "markdown",
   "id": "76212e0c",
   "metadata": {},
   "source": [
    "### Задание №3.\n",
    "Непрерывная случайная величина X распределена нормально и задана плотностью распределения:\n",
    "$$\\normalsize\\displaystyle f(x) = \\frac{1}{4\\sqrt{2\\pi}}\\cdot\\exp\\bigg(-\\frac{(x+2)^2}{32}\\bigg).$$\n",
    "Найдите:   \n",
    "а) M(X)   \n",
    "б) D(X)   \n",
    "в) std(X) (среднее квадратичное отклонение)\n",
    "\n",
    "Общая формула плотности нормального распределения имеет вид:\n",
    "$$\\normalsize\\displaystyle f(x) = \\frac{1}{\\sigma\\sqrt{2\\pi}}\\cdot\\exp\\bigg(-\\frac{(x-\\mu)^2}{2\\sigma^2}\\bigg).$$\n",
    "\n",
    "Подогнав формулу плотности данного распределения под общий вид:\n",
    "$$\\normalsize\\displaystyle f(x) = \\frac{1}{4\\sqrt{2\\pi}}\\cdot\\exp\\bigg(-\\frac{(x-(-2))^2}{2\\cdot4^2}\\bigg),$$\n",
    "\n",
    "Получим   \n",
    "$\\normalsize M(X) = \\mu = -2$   \n",
    "$\\normalsize D(X) = \\sigma^2 = 16$   \n",
    "$\\normalsize std(X) = \\sigma = 4$\n",
    "___"
   ]
  },
  {
   "cell_type": "markdown",
   "id": "0c58d6d5",
   "metadata": {},
   "source": [
    "### Задание №4.\n",
    "Рост взрослого населения города X имеет нормальное распределение.\n",
    "Причем, средний рост равен 174 см, а среднее квадратичное отклонение равно 8 см.\n",
    "Какова вероятность того, что случайным образом выбранный взрослый человек имеет рост:   \n",
    "а) больше 182 см,   \n",
    "б) больше 190 см,   \n",
    "в) от 166 см до 190 см,   \n",
    "г) от 166 см до 182 см,   \n",
    "д) от 158 см до 190 см,   \n",
    "е) не выше 150 см или не ниже 190 см,   \n",
    "ё) не выше 150 см или не ниже 198 см,   \n",
    "ж) ниже 166 см?\n",
    "\n",
    "Дано: $\\mu = 174$, $\\sigma = 8$\n",
    "\n",
    "Тогда, исходя из следующих правил для вычисления вероятностей разброса значений нормально распределенной случайной величины:   \n",
    "$P(\\mu-\\sigma<X<\\mu+\\sigma) \\approx 0.683$,   \n",
    "$P(\\mu-2\\sigma<X<\\mu+2\\sigma) \\approx 0.954$,   \n",
    "$P(\\mu-3\\sigma<X<\\mu+3\\sigma) \\approx 0.997$,   \n",
    "где $\\mu-\\sigma = 166$, $\\mu+\\sigma = 182$, $\\mu-2\\sigma = 158$, $\\mu+2\\sigma = 190$, $\\mu-3\\sigma = 150$, $\\mu+3\\sigma = 198$,\n",
    "\n",
    "найдем искомые вероятности:\n",
    "\n",
    "а) $\\displaystyle P(X>182) = \\frac{1-P(166<X<182)}{2} \\approx \\frac{1-0.683}{2} = 0.1585$,\n",
    "\n",
    "б) $\\displaystyle P(X>190) = \\frac{1-P(158<X<190)}{2} \\approx \\frac{1-0.954}{2} = 0.023$,\n",
    "\n",
    "в) $\\displaystyle P(166<X<190) = P(166<X<182)+\\frac{P(158<X<190)-P(166<X<182)}{2} \\approx 0.683+\\frac{0.954-0.683}{2} = 0.8185$,\n",
    "\n",
    "г) $\\displaystyle P(166<X<182) \\approx 0.683$,\n",
    "\n",
    "д) $\\displaystyle P(158<X<190) \\approx 0.954$,\n",
    "\n",
    "е) $\\displaystyle P(X<150\\cup X>190) = 1-P(158<X<190)-\\frac{P(150<X<198)-P(158<X<190)}{2} \\approx 1-0.954-\\frac{0.997-0.954}{2} = 0.0245$,\n",
    "\n",
    "ё) $\\displaystyle P(X<150\\cup X>198) = 1-P(150<X<198) \\approx 1-0.997 = 0.003$,\n",
    "\n",
    "ж) $\\displaystyle P(X<166) = \\frac{1-P(166<X<182)}{2} \\approx \\frac{1-0.683}{2} = 0.1585$."
   ]
  },
  {
   "cell_type": "markdown",
   "id": "47671dbd",
   "metadata": {},
   "source": [
    "__Проверка через модуль scipy.stats:__"
   ]
  },
  {
   "cell_type": "code",
   "execution_count": 1,
   "id": "8352affc",
   "metadata": {},
   "outputs": [],
   "source": [
    "from scipy import stats\n",
    "\n",
    "norm = stats.norm(loc=174, scale=8)"
   ]
  },
  {
   "cell_type": "code",
   "execution_count": 2,
   "id": "f8db200f",
   "metadata": {},
   "outputs": [
    {
     "data": {
      "text/plain": [
       "0.15865525393145707"
      ]
     },
     "execution_count": 2,
     "metadata": {},
     "output_type": "execute_result"
    }
   ],
   "source": [
    "# P(X > 182) \n",
    "1 - norm.cdf(182)"
   ]
  },
  {
   "cell_type": "code",
   "execution_count": 3,
   "id": "3ec42347",
   "metadata": {},
   "outputs": [
    {
     "data": {
      "text/plain": [
       "0.02275013194817921"
      ]
     },
     "execution_count": 3,
     "metadata": {},
     "output_type": "execute_result"
    }
   ],
   "source": [
    "# P(X > 190)\n",
    "1 - norm.cdf(190)"
   ]
  },
  {
   "cell_type": "code",
   "execution_count": 4,
   "id": "9a0aec33",
   "metadata": {},
   "outputs": [
    {
     "data": {
      "text/plain": [
       "0.8185946141203637"
      ]
     },
     "execution_count": 4,
     "metadata": {},
     "output_type": "execute_result"
    }
   ],
   "source": [
    "# P(166 < X < 190)\n",
    "norm.cdf(190) - norm.cdf(166)"
   ]
  },
  {
   "cell_type": "code",
   "execution_count": 5,
   "id": "d81b45a6",
   "metadata": {},
   "outputs": [
    {
     "data": {
      "text/plain": [
       "0.6826894921370859"
      ]
     },
     "execution_count": 5,
     "metadata": {},
     "output_type": "execute_result"
    }
   ],
   "source": [
    "# P(166 < X < 182)\n",
    "norm.cdf(182) - norm.cdf(166)"
   ]
  },
  {
   "cell_type": "code",
   "execution_count": 6,
   "id": "9e80b950",
   "metadata": {},
   "outputs": [
    {
     "data": {
      "text/plain": [
       "0.9544997361036416"
      ]
     },
     "execution_count": 6,
     "metadata": {},
     "output_type": "execute_result"
    }
   ],
   "source": [
    "# P(158 < X < 190)\n",
    "norm.cdf(190) - norm.cdf(158)"
   ]
  },
  {
   "cell_type": "code",
   "execution_count": 7,
   "id": "ef399abd",
   "metadata": {},
   "outputs": [
    {
     "data": {
      "text/plain": [
       "0.0241000299798093"
      ]
     },
     "execution_count": 7,
     "metadata": {},
     "output_type": "execute_result"
    }
   ],
   "source": [
    "# P(X < 150 & X > 190)\n",
    "1 - norm.cdf(190) + norm.cdf(150)"
   ]
  },
  {
   "cell_type": "code",
   "execution_count": 8,
   "id": "17cc7a5a",
   "metadata": {},
   "outputs": [
    {
     "data": {
      "text/plain": [
       "0.0026997960632601965"
      ]
     },
     "execution_count": 8,
     "metadata": {},
     "output_type": "execute_result"
    }
   ],
   "source": [
    "# P(X < 150 & X > 198)\n",
    "1 - norm.cdf(198) + norm.cdf(150)"
   ]
  },
  {
   "cell_type": "code",
   "execution_count": 9,
   "id": "c944bbda",
   "metadata": {},
   "outputs": [
    {
     "data": {
      "text/plain": [
       "0.15865525393145707"
      ]
     },
     "execution_count": 9,
     "metadata": {},
     "output_type": "execute_result"
    }
   ],
   "source": [
    "# P(X < 166)\n",
    "norm.cdf(166)"
   ]
  },
  {
   "cell_type": "markdown",
   "id": "03806c53",
   "metadata": {},
   "source": [
    "### Задание №5.\n",
    "На сколько сигм (средних квадратичных отклонений) отклоняется рост человека, равный 190 см, от\n",
    "математического ожидания роста в популяции, в которой M(X) = 178 см и D(X) = 25 кв.см?\n",
    "\n",
    "$\\sigma = \\sqrt{D(X)} = \\sqrt{25} = 5$\n",
    "\n",
    "$\\displaystyle k = \\frac{\\big|x-M(X)\\big|}{\\sigma} = \\frac{\\big|190-178\\big|}{5} = 2.4$\n",
    "\n",
    "__Ответ:__ На __2.4__ сигм (средних квадратичных отклонений) отклоняется рост человека, равный 190 см, от\n",
    "математического ожидания роста в популяции, в которой M(X) = 178 см и D(X) = 25 кв.см."
   ]
  }
 ],
 "metadata": {
  "kernelspec": {
   "display_name": "Python 3",
   "language": "python",
   "name": "python3"
  },
  "language_info": {
   "codemirror_mode": {
    "name": "ipython",
    "version": 3
   },
   "file_extension": ".py",
   "mimetype": "text/x-python",
   "name": "python",
   "nbconvert_exporter": "python",
   "pygments_lexer": "ipython3",
   "version": "3.8.8"
  }
 },
 "nbformat": 4,
 "nbformat_minor": 5
}
