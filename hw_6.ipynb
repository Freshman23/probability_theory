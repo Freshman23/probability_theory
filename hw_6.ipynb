{
 "cells": [
  {
   "cell_type": "markdown",
   "id": "56244478",
   "metadata": {},
   "source": [
    "### Задание №1.\n",
    "Даны значения величины заработной платы заемщиков банка (zp) и значения их\n",
    "поведенческого кредитного скоринга (ks):"
   ]
  },
  {
   "cell_type": "code",
   "execution_count": 1,
   "id": "1ca21357",
   "metadata": {},
   "outputs": [],
   "source": [
    "import numpy as np"
   ]
  },
  {
   "cell_type": "code",
   "execution_count": 2,
   "id": "0fa89422",
   "metadata": {},
   "outputs": [],
   "source": [
    "zp = np.array([35, 45, 190, 200, 40, 70, 54, 150, 120, 110])\n",
    "ks = np.array([401, 574, 874, 919, 459, 739, 653, 902, 746, 832])"
   ]
  },
  {
   "cell_type": "markdown",
   "id": "72d11a31",
   "metadata": {},
   "source": [
    "Найдите ковариацию этих двух величин с помощью элементарных действий, а затем с помощью функции cov из numpy. Полученные значения должны быть равны.    \n",
    "Найдите коэффициент корреляции Пирсона с помощью ковариации и среднеквадратичных отклонений двух признаков, а затем с использованием функций из библиотек numpy и pandas."
   ]
  },
  {
   "cell_type": "markdown",
   "id": "51d756d4",
   "metadata": {},
   "source": [
    "__Решение:__\n",
    "\n",
    "Ковариацию двух наших величин найдём по формуле несмещённой оценки:\n",
    "\n",
    "$$\\normalsize \\sigma_{XY} = \\frac{1}{n-1}\\sum_{i=1}^{n}\\big(x_i-\\overline{X}\\big)\\cdot\\big(y_i-\\overline{Y}\\big),$$\n",
    "\n",
    "где $\\overline{X}, \\overline{Y}$ - средние выборочные величин $X, Y$."
   ]
  },
  {
   "cell_type": "code",
   "execution_count": 3,
   "id": "830f58ee",
   "metadata": {},
   "outputs": [
    {
     "data": {
      "text/plain": [
       "10175.37777777778"
      ]
     },
     "execution_count": 3,
     "metadata": {},
     "output_type": "execute_result"
    }
   ],
   "source": [
    "m_zp = zp.sum() / zp.shape[0]\n",
    "m_ks = ks.sum() / ks.shape[0]\n",
    "\n",
    "cov_zp_ks = ((zp - m_zp) * (ks - m_ks)).sum() / (zp.shape[0] - 1)\n",
    "cov_zp_ks"
   ]
  },
  {
   "cell_type": "markdown",
   "id": "98e016b0",
   "metadata": {},
   "source": [
    "Проверим полученное значение ковариации функцией `cov()` библиотеки `numpy`: "
   ]
  },
  {
   "cell_type": "code",
   "execution_count": 4,
   "id": "5258ac39",
   "metadata": {},
   "outputs": [
    {
     "data": {
      "text/plain": [
       "10175.377777777776"
      ]
     },
     "execution_count": 4,
     "metadata": {},
     "output_type": "execute_result"
    }
   ],
   "source": [
    "np.cov(zp, ks, ddof=1)[0, 1]"
   ]
  },
  {
   "cell_type": "markdown",
   "id": "c04110e5",
   "metadata": {},
   "source": [
    "Коэффициент корреляции Пирсона найдем по формуле:\n",
    "\n",
    "$$\\normalsize r_{XY} = \\frac{\\sigma_{XY}}{\\sigma_X\\cdot\\sigma_Y},$$\n",
    "\n",
    "где $\\sigma_{XY}$ - ковариация двух величин X, Y, $\\,\\,\\,\\sigma_X, \\sigma_Y$ - среднеквадратичные отклонения величин X, Y.\n",
    "\n",
    "Среднеквадратичные отклонения найдём по формуле:\n",
    "\n",
    "$$\\normalsize \\sigma_X = \\sqrt{\\frac{1}{n-1}\\sum_{i=1}^n\\Big(x_i-\\overline{X}\\Big)^2},$$\n",
    "\n",
    "где $\\overline{X}$ - среднее выборочное."
   ]
  },
  {
   "cell_type": "code",
   "execution_count": 5,
   "id": "4cc6d407",
   "metadata": {},
   "outputs": [
    {
     "data": {
      "text/plain": [
       "0.8874900920739164"
      ]
     },
     "execution_count": 5,
     "metadata": {},
     "output_type": "execute_result"
    }
   ],
   "source": [
    "std_zp = np.sqrt(((zp - m_zp) ** 2).sum() / (zp.shape[0] - 1))\n",
    "std_ks = np.sqrt(((ks - m_ks) ** 2).sum() / (ks.shape[0] - 1))\n",
    "\n",
    "corr_zp_ks = cov_zp_ks / (std_zp * std_ks)\n",
    "corr_zp_ks"
   ]
  },
  {
   "cell_type": "markdown",
   "id": "e7529d53",
   "metadata": {},
   "source": [
    "Проверим полученное значение коэффициента корреляции Пирсона функцией `corrcoef()` библиотеки `numpy`:"
   ]
  },
  {
   "cell_type": "code",
   "execution_count": 6,
   "id": "e0b48539",
   "metadata": {},
   "outputs": [
    {
     "data": {
      "text/plain": [
       "0.8874900920739162"
      ]
     },
     "execution_count": 6,
     "metadata": {},
     "output_type": "execute_result"
    }
   ],
   "source": [
    "np.corrcoef(zp, ks)[0, 1]"
   ]
  },
  {
   "cell_type": "markdown",
   "id": "421a3c62",
   "metadata": {},
   "source": [
    "__Ответ:__\n",
    "\n",
    "$\\normalsize \\sigma_{XY} \\approx 10175.38\\,\\,\\,\\,\\, r_{XY} \\approx 0.88749$\n",
    "___"
   ]
  },
  {
   "cell_type": "markdown",
   "id": "819af8d8",
   "metadata": {},
   "source": [
    "### Задание №2.\n",
    "Измерены значения IQ выборки студентов, обучающихся в местных технических вузах:"
   ]
  },
  {
   "cell_type": "code",
   "execution_count": 7,
   "id": "e70f1da3",
   "metadata": {},
   "outputs": [],
   "source": [
    "iq = np.array([131, 125, 115, 122, 131, 115, 107, 99, 125, 111])"
   ]
  },
  {
   "cell_type": "markdown",
   "id": "99bd6004",
   "metadata": {},
   "source": [
    "Известно, что в генеральной совокупности IQ распределен нормально.\n",
    "Найдите доверительный интервал для математического ожидания с надежностью $p=0.95$."
   ]
  },
  {
   "cell_type": "markdown",
   "id": "34a38497",
   "metadata": {},
   "source": [
    "__Решение:__\n",
    "\n",
    "Так как по условию нам известно, что генеральная совокупность имеет нормальное распределение и $\\alpha = 1 - p = 0.05$, и неизвестно среднеквадратичное отклонение, то для вычисления ширины доверительного интервала математического ожидания будем использовать t-статистику и её распределение Стьюдента.\n",
    "\n",
    "$$\\normalsize t = \\frac{\\overline{X}-\\mu}{\\sigma_X/\\sqrt{n}}$$\n",
    "\n",
    "Границы доверительного интервала математического ожидания найдем из двойного неравенства:\n",
    "\n",
    "$$\\normalsize t_{\\alpha/2} \\le t \\le t_{1-\\alpha/2}$$\n",
    "\n",
    "$$\\normalsize t_{\\alpha/2} \\le \\frac{\\overline{X}-\\mu}{\\sigma_X/\\sqrt{n}} \\le t_{1-\\alpha/2}$$\n",
    "\n",
    "$$\\normalsize \\frac{t_{\\alpha/2}\\cdot\\sigma_X}{\\sqrt{n}} \\le \\overline{X}-\\mu \\le \\frac{t_{1-\\alpha/2}\\cdot\\sigma_X}{\\sqrt{n}}$$\n",
    "\n",
    "$$\\normalsize \\overline{X}-\\frac{t_{1-\\alpha/2}\\cdot\\sigma_X}{\\sqrt{n}} \\le \\mu \\le \\overline{X}-\\frac{t_{\\alpha/2}\\cdot\\sigma_X}{\\sqrt{n}}$$\n",
    "\n",
    "Найдем недостающие квантили порядка $\\alpha/2$ и $1-\\alpha/2$ через библиотеку `scipy` и сразу посчитаем границы интервала:"
   ]
  },
  {
   "cell_type": "code",
   "execution_count": 8,
   "id": "121f3459",
   "metadata": {},
   "outputs": [],
   "source": [
    "m_iq = iq.mean()\n",
    "std_iq = iq.std()\n",
    "n = iq.shape[0]\n",
    "alpha = 0.05"
   ]
  },
  {
   "cell_type": "code",
   "execution_count": 9,
   "id": "7c40bb0c",
   "metadata": {},
   "outputs": [
    {
     "data": {
      "text/plain": [
       "(-2.262157162740992, 2.2621571627409915)"
      ]
     },
     "execution_count": 9,
     "metadata": {},
     "output_type": "execute_result"
    }
   ],
   "source": [
    "from scipy import stats\n",
    "\n",
    "t1 = stats.t.ppf(alpha / 2, df=n - 1)\n",
    "t2 = stats.t.ppf(1 - alpha / 2, df=n - 1)\n",
    "\n",
    "t1, t2"
   ]
  },
  {
   "cell_type": "code",
   "execution_count": 10,
   "id": "eb76b273",
   "metadata": {},
   "outputs": [
    {
     "data": {
      "text/plain": [
       "(110.9432125583706, 125.25678744162938)"
      ]
     },
     "execution_count": 10,
     "metadata": {},
     "output_type": "execute_result"
    }
   ],
   "source": [
    "m_iq - t2 * std_iq / np.sqrt(n), m_iq - t1 * std_iq / np.sqrt(n)"
   ]
  },
  {
   "cell_type": "markdown",
   "id": "47d7dcc1",
   "metadata": {},
   "source": [
    "__Ответ:__\n",
    "\n",
    "С вероятностью $\\normalsize p=0.95,\\,\\,\\,\\mu \\in \\big(110.94, 125.26\\big).$\n",
    "___"
   ]
  },
  {
   "cell_type": "markdown",
   "id": "7a0a099c",
   "metadata": {},
   "source": [
    "### Задание №3.\n",
    "Известно, что рост футболистов в сборной распределен нормально с дисперсией генеральной совокупности, равной 25 кв.см. Объем выборки равен 27, среднее выборочное составляет 174.2. Найдите доверительный интервал для математического ожидания с надежностью 0.95."
   ]
  },
  {
   "cell_type": "markdown",
   "id": "cb105a88",
   "metadata": {},
   "source": [
    "__Решение:__\n",
    "\n",
    "$\\normalsize \\sigma_X = \\sqrt{25} = 5,\\,\\,\\,n=27,\\,\\,\\,\\overline{X}=174.2,\\,\\,\\,\\alpha = 1-p = 0.05$.\n",
    "\n",
    "По аналогичным формулам t-статистики и ее распределения Стьюдента решим эту задачу."
   ]
  },
  {
   "cell_type": "code",
   "execution_count": 11,
   "id": "7721fd2e",
   "metadata": {},
   "outputs": [],
   "source": [
    "m_h = 174.2\n",
    "n = 27\n",
    "std_h = 5"
   ]
  },
  {
   "cell_type": "code",
   "execution_count": 12,
   "id": "1aae43f8",
   "metadata": {},
   "outputs": [
    {
     "data": {
      "text/plain": [
       "(-2.0555294386428713, 2.055529438642871)"
      ]
     },
     "execution_count": 12,
     "metadata": {},
     "output_type": "execute_result"
    }
   ],
   "source": [
    "t1 = stats.t.ppf(alpha / 2, df=n - 1)\n",
    "t2 = stats.t.ppf(1 - alpha / 2, df=n - 1)\n",
    "\n",
    "t1, t2"
   ]
  },
  {
   "cell_type": "code",
   "execution_count": 13,
   "id": "1bb54a5c",
   "metadata": {},
   "outputs": [
    {
     "data": {
      "text/plain": [
       "(172.2220658754539, 176.17793412454608)"
      ]
     },
     "execution_count": 13,
     "metadata": {},
     "output_type": "execute_result"
    }
   ],
   "source": [
    "m_h - t2 * std_h / np.sqrt(n), m_h - t1 * std_h / np.sqrt(n)"
   ]
  },
  {
   "cell_type": "markdown",
   "id": "656973dc",
   "metadata": {},
   "source": [
    "__Ответ:__\n",
    "\n",
    "С вероятностью $\\normalsize p=0.95,\\,\\,\\,\\mu \\in \\big(172.22, 176.18\\big).$"
   ]
  }
 ],
 "metadata": {
  "kernelspec": {
   "display_name": "Python 3",
   "language": "python",
   "name": "python3"
  },
  "language_info": {
   "codemirror_mode": {
    "name": "ipython",
    "version": 3
   },
   "file_extension": ".py",
   "mimetype": "text/x-python",
   "name": "python",
   "nbconvert_exporter": "python",
   "pygments_lexer": "ipython3",
   "version": "3.8.8"
  }
 },
 "nbformat": 4,
 "nbformat_minor": 5
}
