{
 "cells": [
  {
   "cell_type": "markdown",
   "id": "83cf8220",
   "metadata": {},
   "source": [
    "### Задача №1.\n",
    "Используя данные о хоккеистах в `hockey_players.csv`, проверьте, является ли среди хоккеистов из Финляндии, Норвегии и Дании значимым отличие: а) роста, б) BMI.\n",
    "\n",
    "__Решение:__\n",
    "\n",
    "Значимость отличия роста и BMI хоккеистов из Финляндии, Норвегии и Дании проверим с помощью однофакторного дисперсионного анализа, используя F-критерий Фишера. За нулевую гипотезу принимаем утверждение об отсутствии отличия роста и BMI хоккеистов из Финляндии, Норвегии и Дании.\n",
    "\n",
    "Для начала загрузим данные, избавимся от дубликатов и выделим рассматриваемые признаки, разобив на выборки по значению категории, в нашем случае по странам \"FIN\", \"NOR\", \"DEN\":"
   ]
  },
  {
   "cell_type": "code",
   "execution_count": 1,
   "id": "05414b26",
   "metadata": {},
   "outputs": [],
   "source": [
    "import numpy as np\n",
    "import pandas as pd"
   ]
  },
  {
   "cell_type": "code",
   "execution_count": 2,
   "id": "0861966c",
   "metadata": {},
   "outputs": [
    {
     "data": {
      "text/html": [
       "<div>\n",
       "<style scoped>\n",
       "    .dataframe tbody tr th:only-of-type {\n",
       "        vertical-align: middle;\n",
       "    }\n",
       "\n",
       "    .dataframe tbody tr th {\n",
       "        vertical-align: top;\n",
       "    }\n",
       "\n",
       "    .dataframe thead th {\n",
       "        text-align: right;\n",
       "    }\n",
       "</style>\n",
       "<table border=\"1\" class=\"dataframe\">\n",
       "  <thead>\n",
       "    <tr style=\"text-align: right;\">\n",
       "      <th></th>\n",
       "      <th>year</th>\n",
       "      <th>country</th>\n",
       "      <th>no</th>\n",
       "      <th>name</th>\n",
       "      <th>position</th>\n",
       "      <th>side</th>\n",
       "      <th>height</th>\n",
       "      <th>weight</th>\n",
       "      <th>birth</th>\n",
       "      <th>club</th>\n",
       "      <th>age</th>\n",
       "      <th>cohort</th>\n",
       "      <th>bmi</th>\n",
       "    </tr>\n",
       "  </thead>\n",
       "  <tbody>\n",
       "    <tr>\n",
       "      <th>0</th>\n",
       "      <td>2001</td>\n",
       "      <td>RUS</td>\n",
       "      <td>10</td>\n",
       "      <td>tverdovsky oleg</td>\n",
       "      <td>D</td>\n",
       "      <td>L</td>\n",
       "      <td>185</td>\n",
       "      <td>84.0</td>\n",
       "      <td>1976-05-18</td>\n",
       "      <td>anaheim mighty ducks</td>\n",
       "      <td>24.952772</td>\n",
       "      <td>1976</td>\n",
       "      <td>24.543462</td>\n",
       "    </tr>\n",
       "    <tr>\n",
       "      <th>1</th>\n",
       "      <td>2001</td>\n",
       "      <td>RUS</td>\n",
       "      <td>2</td>\n",
       "      <td>vichnevsky vitali</td>\n",
       "      <td>D</td>\n",
       "      <td>L</td>\n",
       "      <td>188</td>\n",
       "      <td>86.0</td>\n",
       "      <td>1980-03-18</td>\n",
       "      <td>anaheim mighty ducks</td>\n",
       "      <td>21.119781</td>\n",
       "      <td>1980</td>\n",
       "      <td>24.332277</td>\n",
       "    </tr>\n",
       "    <tr>\n",
       "      <th>2</th>\n",
       "      <td>2001</td>\n",
       "      <td>RUS</td>\n",
       "      <td>26</td>\n",
       "      <td>petrochinin evgeni</td>\n",
       "      <td>D</td>\n",
       "      <td>L</td>\n",
       "      <td>182</td>\n",
       "      <td>95.0</td>\n",
       "      <td>1976-02-07</td>\n",
       "      <td>severstal cherepovetal</td>\n",
       "      <td>25.229295</td>\n",
       "      <td>1976</td>\n",
       "      <td>28.680111</td>\n",
       "    </tr>\n",
       "    <tr>\n",
       "      <th>3</th>\n",
       "      <td>2001</td>\n",
       "      <td>RUS</td>\n",
       "      <td>28</td>\n",
       "      <td>zhdan alexander</td>\n",
       "      <td>D</td>\n",
       "      <td>R</td>\n",
       "      <td>178</td>\n",
       "      <td>85.0</td>\n",
       "      <td>1971-08-28</td>\n",
       "      <td>ak bars kazan</td>\n",
       "      <td>29.675565</td>\n",
       "      <td>1971</td>\n",
       "      <td>26.827421</td>\n",
       "    </tr>\n",
       "    <tr>\n",
       "      <th>4</th>\n",
       "      <td>2001</td>\n",
       "      <td>RUS</td>\n",
       "      <td>32</td>\n",
       "      <td>orekhovsky oleg</td>\n",
       "      <td>D</td>\n",
       "      <td>R</td>\n",
       "      <td>175</td>\n",
       "      <td>88.0</td>\n",
       "      <td>1977-11-03</td>\n",
       "      <td>dynamo moscow</td>\n",
       "      <td>23.490760</td>\n",
       "      <td>1977</td>\n",
       "      <td>28.734694</td>\n",
       "    </tr>\n",
       "  </tbody>\n",
       "</table>\n",
       "</div>"
      ],
      "text/plain": [
       "   year country  no                 name position side  height  weight  \\\n",
       "0  2001     RUS  10     tverdovsky oleg         D    L     185    84.0   \n",
       "1  2001     RUS   2   vichnevsky vitali         D    L     188    86.0   \n",
       "2  2001     RUS  26  petrochinin evgeni         D    L     182    95.0   \n",
       "3  2001     RUS  28     zhdan alexander         D    R     178    85.0   \n",
       "4  2001     RUS  32     orekhovsky oleg         D    R     175    88.0   \n",
       "\n",
       "        birth                     club        age  cohort        bmi  \n",
       "0  1976-05-18    anaheim mighty ducks   24.952772    1976  24.543462  \n",
       "1  1980-03-18    anaheim mighty ducks   21.119781    1980  24.332277  \n",
       "2  1976-02-07  severstal cherepovetal   25.229295    1976  28.680111  \n",
       "3  1971-08-28           ak bars kazan   29.675565    1971  26.827421  \n",
       "4  1977-11-03           dynamo moscow   23.490760    1977  28.734694  "
      ]
     },
     "execution_count": 2,
     "metadata": {},
     "output_type": "execute_result"
    }
   ],
   "source": [
    "df = pd.read_csv('hockey_players.csv')\n",
    "df.head()"
   ]
  },
  {
   "cell_type": "code",
   "execution_count": 3,
   "id": "bb859987",
   "metadata": {},
   "outputs": [
    {
     "data": {
      "text/plain": [
       "array(['RUS', 'AUT', 'BLR', 'CAN', 'CZE', 'FIN', 'GER', 'ITA', 'JPN',\n",
       "       'LAT', 'NOR', 'SUI', 'SVK', 'SWE', 'UKR', 'USA', 'POL', 'SLO',\n",
       "       'DEN', 'FRA', 'KAZ', 'HUN'], dtype=object)"
      ]
     },
     "execution_count": 3,
     "metadata": {},
     "output_type": "execute_result"
    }
   ],
   "source": [
    "df['country'].unique()"
   ]
  },
  {
   "cell_type": "code",
   "execution_count": 4,
   "id": "66c3df93",
   "metadata": {},
   "outputs": [],
   "source": [
    "df = df.drop_duplicates(subset=['name', 'birth'], keep='last')"
   ]
  },
  {
   "cell_type": "code",
   "execution_count": 5,
   "id": "8e0a5dd3",
   "metadata": {},
   "outputs": [],
   "source": [
    "heights = [df.loc[df['country'] == country, 'height'] for country in ['FIN', 'NOR', 'DEN']]\n",
    "bmis = [df.loc[df['country'] == country, 'bmi'] for country in ['FIN', 'NOR', 'DEN']]"
   ]
  },
  {
   "cell_type": "markdown",
   "id": "03875b20",
   "metadata": {},
   "source": [
    "Используемая статистика представляет из себя отношение дисперсии между уровнями к дисперсии внутри уровней:\n",
    "\n",
    "$$\\normalsize F = \\dfrac{\\sigma_b^2}{\\sigma_w^2},$$\n",
    "\n",
    "Дисперсии находятся по формулам:\n",
    "\n",
    "$$\\normalsize \\sigma_b^2 = \\dfrac{SS_b}{k - 1}, \\:\\: \\sigma_w^2 = \\dfrac{SS_w}{n - k},$$\n",
    "\n",
    "где $n$ - размер выборки, $k$ - количество уровней (уникальных значений категориального признака).\n",
    "\n",
    "$SS_b, SS_w$ в свою очередь вычисляются следующим образом:\n",
    "\n",
    "$$\\normalsize SS_b = \\displaystyle\\sum_{i=1}^k \\left( \\overline{Y_i} - \\overline{Y} \\right)^2 n_i, \\:\\:\n",
    "SS_w = \\displaystyle\\sum_{i=1}^k \\displaystyle\\sum_{j=1}^{n_i} \\left( y_{ij} - \\overline{Y_i} \\right)^2,$$\n",
    "где $\\overline{Y}$ - общее среднее выборочное, $\\overline{Y_i}$ - среднее выборочное $i$-й выборки, $y_{ij}$ — $j$-й элемент $i$-й выборки, $n_i$ - размер $i$-й выборки.\n",
    "\n",
    "Напишем функцию и подсчитаем F-статистики для роста и BMI:"
   ]
  },
  {
   "cell_type": "code",
   "execution_count": 6,
   "id": "f3078542",
   "metadata": {},
   "outputs": [],
   "source": [
    "def f_stat(ys):\n",
    "    y = np.concatenate(ys)\n",
    "\n",
    "    ss_b = sum((yi.mean() - y.mean()) ** 2 * yi.size for yi in ys)\n",
    "    ss_w = sum(((yi - yi.mean()) ** 2).sum() for yi in ys)\n",
    "    \n",
    "    sigma_b = ss_b / (len(ys) - 1)\n",
    "    sigma_w = ss_w / (y.size - len(ys))\n",
    "    \n",
    "    return sigma_b / sigma_w"
   ]
  },
  {
   "cell_type": "code",
   "execution_count": 7,
   "id": "8445cd3f",
   "metadata": {},
   "outputs": [
    {
     "data": {
      "text/plain": [
       "(3.8026212813131024, 5.918577060155501)"
      ]
     },
     "execution_count": 7,
     "metadata": {},
     "output_type": "execute_result"
    }
   ],
   "source": [
    "f_stat_height = f_stat(heights)\n",
    "f_stat_bmi = f_stat(bmis)\n",
    "\n",
    "f_stat_height, f_stat_bmi"
   ]
  },
  {
   "cell_type": "markdown",
   "id": "aaf59695",
   "metadata": {},
   "source": [
    "В предположении верности нулевой гипотезы $F$-статистика имеет распределение Фишера с параметрами $k_1 = k - 1$, $k_2 = n - k$. Критическая область здесь правосторонняя:\n",
    "$$\\normalsize\\Omega_\\alpha = \\left( t_{1 - \\alpha, \\: k_1, k_2}, \\infty \\right),$$\n",
    "где $t_{\\alpha, \\: k_1, k_2}$ — квантиль порядка $\\alpha$ для распределения Фишера с параметрами $k_1$, $k_2$.\n",
    "\n",
    "Для обоих признаков (рост, bmi) критическая область будет одинаковой, так как рассматривается одна и та же выборка.   \n",
    "Зададим уровень значимости $\\alpha=0.05$ и подсчитаем квантиль порядка $1-\\alpha$ распределения Фишера с параметрами для нашей выборки: "
   ]
  },
  {
   "cell_type": "code",
   "execution_count": 8,
   "id": "074a1681",
   "metadata": {},
   "outputs": [],
   "source": [
    "from scipy import stats"
   ]
  },
  {
   "cell_type": "code",
   "execution_count": 9,
   "id": "f2e687b3",
   "metadata": {},
   "outputs": [
    {
     "data": {
      "text/plain": [
       "3.016700272452327"
      ]
     },
     "execution_count": 9,
     "metadata": {},
     "output_type": "execute_result"
    }
   ],
   "source": [
    "k = len(bmis)\n",
    "n = bmis[0].size + bmis[1].size + bmis[2].size\n",
    "k1 = k - 1\n",
    "k2 = n - k\n",
    "alpha = 0.05\n",
    "\n",
    "t = stats.f.ppf(1 - alpha, k1, k2)\n",
    "t"
   ]
  },
  {
   "cell_type": "markdown",
   "id": "3a30ee3f",
   "metadata": {},
   "source": [
    "Критическая область: $\\normalsize\\Omega_\\alpha = \\left(3.017, \\infty \\right)$. И значения $F$-статистики для роста и BMI, равные $3.8026$ и $5.9186$ соответственно, в нее попадают. Нулевая гипотеза отвергается, следовательно __является значимым__ отличие в росте и BMI хоккеистов из Финляндии, Норвегии и Дании.\n",
    "\n",
    "__Ответ:__   \n",
    "__Является значимым__ отличие в росте и BMI хоккеистов из Финляндии, Норвегии и Дании."
   ]
  }
 ],
 "metadata": {
  "kernelspec": {
   "display_name": "Python 3",
   "language": "python",
   "name": "python3"
  },
  "language_info": {
   "codemirror_mode": {
    "name": "ipython",
    "version": 3
   },
   "file_extension": ".py",
   "mimetype": "text/x-python",
   "name": "python",
   "nbconvert_exporter": "python",
   "pygments_lexer": "ipython3",
   "version": "3.8.8"
  }
 },
 "nbformat": 4,
 "nbformat_minor": 5
}
